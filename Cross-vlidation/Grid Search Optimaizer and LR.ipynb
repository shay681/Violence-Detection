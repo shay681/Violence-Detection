{
 "cells": [
  {
   "cell_type": "code",
   "execution_count": 1,
   "id": "744ca3dc",
   "metadata": {},
   "outputs": [],
   "source": [
    "import pandas as pd\n",
    "import matplotlib.pyplot as plt"
   ]
  },
  {
   "cell_type": "code",
   "execution_count": 2,
   "id": "06a161ff",
   "metadata": {},
   "outputs": [],
   "source": [
    "NUM_OF_FOLDS = 5\n",
    "df = pd.read_csv('./data/Grid_HOKEY_OPT_LR_kfolds_5_batch_64_epochs_20.csv', index_col=[0])"
   ]
  },
  {
   "cell_type": "code",
   "execution_count": 3,
   "id": "4c55dd68",
   "metadata": {},
   "outputs": [],
   "source": [
    "optimizer = \"param_model__optimizer\"\n",
    "learning_rate = \"param_optimizer__learning_rate\"\n",
    "grid_iterations = []\n",
    "for opt in df.param_model__optimizer.unique():\n",
    "    for lr in df.param_optimizer__learning_rate.unique():\n",
    "        grid_iterations.append(df[(df[optimizer]==opt) & (df[learning_rate]==lr)])"
   ]
  },
  {
   "cell_type": "code",
   "execution_count": 4,
   "id": "30aa9e33",
   "metadata": {},
   "outputs": [
    {
     "name": "stdout",
     "output_type": "stream",
     "text": [
      "Mean scores for Adam with learning rate of 0.01: ACC: 89.2%, F1: 89.2%, ROC: 95.6%. RANK: 2.33\n",
      "Mean scores for Adam with learning rate of 0.001: ACC: 88.1%, F1: 88.1%, ROC: 95.9%. RANK: 3.67\n",
      "Mean scores for Adam with learning rate of 0.0005: ACC: 89.7%, F1: 89.7%, ROC: 95.8%. RANK: 1.33\n",
      "Mean scores for Adam with learning rate of 0.0001: ACC: 88.3%, F1: 88.3%, ROC: 95.4%. RANK: 3.33\n",
      "Mean scores for SGD with learning rate of 0.01: ACC: 71.6%, F1: 71.6%, ROC: 85.6%. RANK: 11.0\n",
      "Mean scores for SGD with learning rate of 0.001: ACC: 79.1%, F1: 79.1%, ROC: 88.0%. RANK: 9.0\n",
      "Mean scores for SGD with learning rate of 0.0005: ACC: 70.0%, F1: 70.0%, ROC: 85.8%. RANK: 11.33\n",
      "Mean scores for SGD with learning rate of 0.0001: ACC: 74.2%, F1: 74.2%, ROC: 85.2%. RANK: 10.67\n",
      "Mean scores for RMSprop with learning rate of 0.01: ACC: 88.3%, F1: 88.3%, ROC: 94.4%. RANK: 4.33\n",
      "Mean scores for RMSprop with learning rate of 0.001: ACC: 82.8%, F1: 82.8%, ROC: 94.2%. RANK: 6.67\n",
      "Mean scores for RMSprop with learning rate of 0.0005: ACC: 86.3%, F1: 86.3%, ROC: 94.2%. RANK: 6.33\n",
      "Mean scores for RMSprop with learning rate of 0.0001: ACC: 80.1%, F1: 80.1%, ROC: 93.7%. RANK: 8.0\n"
     ]
    }
   ],
   "source": [
    "df_data = []\n",
    "for itr in grid_iterations:\n",
    "    opt = itr.param_model__optimizer.iloc[0]\n",
    "    lr = itr.param_optimizer__learning_rate.iloc[0]\n",
    "    mean_accuracy = round(itr.mean_test_accuracy.iloc[0]* 100, 1) \n",
    "    std_accuracy = itr.std_test_accuracy.iloc[0]\n",
    "    mean_f1 = round(itr.mean_test_f1_micro.iloc[0]* 100,1)\n",
    "    std_f1 = itr.std_test_f1_micro.iloc[0]\n",
    "    mean_roc_auc = round(itr.mean_test_roc_auc.iloc[0]* 100,1)\n",
    "    std_roc_auc = itr.std_test_roc_auc.iloc[0]\n",
    "    rank_acc = itr.rank_test_accuracy.iloc[0]\n",
    "    rank_f1 = itr.rank_test_f1_micro.iloc[0]\n",
    "    rank_roc = itr.rank_test_roc_auc.iloc[0]\n",
    "    total_rank = round((rank_acc+rank_f1+rank_roc)/3, 2)\n",
    "    result = f\"Mean scores for {opt} with learning rate of {lr}: ACC: {mean_accuracy}%, F1: {mean_f1}%, ROC: {mean_roc_auc}%. RANK: {total_rank}\"\n",
    "    print(result)\n",
    "    df_data.append({\"Optimaizer\": opt, \"Learning Rate\": lr, \"ACC\": mean_accuracy, \"F1\": mean_f1, \"ROC\": mean_roc_auc, \"Score\": int(total_rank)})"
   ]
  },
  {
   "cell_type": "code",
   "execution_count": 5,
   "id": "59b30bfe",
   "metadata": {},
   "outputs": [
    {
     "data": {
      "text/html": [
       "<div>\n",
       "<style scoped>\n",
       "    .dataframe tbody tr th:only-of-type {\n",
       "        vertical-align: middle;\n",
       "    }\n",
       "\n",
       "    .dataframe tbody tr th {\n",
       "        vertical-align: top;\n",
       "    }\n",
       "\n",
       "    .dataframe thead th {\n",
       "        text-align: right;\n",
       "    }\n",
       "</style>\n",
       "<table border=\"1\" class=\"dataframe\">\n",
       "  <thead>\n",
       "    <tr style=\"text-align: right;\">\n",
       "      <th></th>\n",
       "      <th>Optimaizer</th>\n",
       "      <th>Learning Rate</th>\n",
       "      <th>ACC</th>\n",
       "      <th>F1</th>\n",
       "      <th>ROC</th>\n",
       "      <th>Score</th>\n",
       "    </tr>\n",
       "  </thead>\n",
       "  <tbody>\n",
       "    <tr>\n",
       "      <th>2</th>\n",
       "      <td>Adam</td>\n",
       "      <td>0.0005</td>\n",
       "      <td>89.7</td>\n",
       "      <td>89.7</td>\n",
       "      <td>95.8</td>\n",
       "      <td>1</td>\n",
       "    </tr>\n",
       "    <tr>\n",
       "      <th>0</th>\n",
       "      <td>Adam</td>\n",
       "      <td>0.0100</td>\n",
       "      <td>89.2</td>\n",
       "      <td>89.2</td>\n",
       "      <td>95.6</td>\n",
       "      <td>2</td>\n",
       "    </tr>\n",
       "    <tr>\n",
       "      <th>1</th>\n",
       "      <td>Adam</td>\n",
       "      <td>0.0010</td>\n",
       "      <td>88.1</td>\n",
       "      <td>88.1</td>\n",
       "      <td>95.9</td>\n",
       "      <td>3</td>\n",
       "    </tr>\n",
       "    <tr>\n",
       "      <th>3</th>\n",
       "      <td>Adam</td>\n",
       "      <td>0.0001</td>\n",
       "      <td>88.3</td>\n",
       "      <td>88.3</td>\n",
       "      <td>95.4</td>\n",
       "      <td>3</td>\n",
       "    </tr>\n",
       "    <tr>\n",
       "      <th>8</th>\n",
       "      <td>RMSprop</td>\n",
       "      <td>0.0100</td>\n",
       "      <td>88.3</td>\n",
       "      <td>88.3</td>\n",
       "      <td>94.4</td>\n",
       "      <td>4</td>\n",
       "    </tr>\n",
       "    <tr>\n",
       "      <th>9</th>\n",
       "      <td>RMSprop</td>\n",
       "      <td>0.0010</td>\n",
       "      <td>82.8</td>\n",
       "      <td>82.8</td>\n",
       "      <td>94.2</td>\n",
       "      <td>6</td>\n",
       "    </tr>\n",
       "    <tr>\n",
       "      <th>10</th>\n",
       "      <td>RMSprop</td>\n",
       "      <td>0.0005</td>\n",
       "      <td>86.3</td>\n",
       "      <td>86.3</td>\n",
       "      <td>94.2</td>\n",
       "      <td>6</td>\n",
       "    </tr>\n",
       "    <tr>\n",
       "      <th>11</th>\n",
       "      <td>RMSprop</td>\n",
       "      <td>0.0001</td>\n",
       "      <td>80.1</td>\n",
       "      <td>80.1</td>\n",
       "      <td>93.7</td>\n",
       "      <td>8</td>\n",
       "    </tr>\n",
       "    <tr>\n",
       "      <th>5</th>\n",
       "      <td>SGD</td>\n",
       "      <td>0.0010</td>\n",
       "      <td>79.1</td>\n",
       "      <td>79.1</td>\n",
       "      <td>88.0</td>\n",
       "      <td>9</td>\n",
       "    </tr>\n",
       "    <tr>\n",
       "      <th>7</th>\n",
       "      <td>SGD</td>\n",
       "      <td>0.0001</td>\n",
       "      <td>74.2</td>\n",
       "      <td>74.2</td>\n",
       "      <td>85.2</td>\n",
       "      <td>10</td>\n",
       "    </tr>\n",
       "    <tr>\n",
       "      <th>4</th>\n",
       "      <td>SGD</td>\n",
       "      <td>0.0100</td>\n",
       "      <td>71.6</td>\n",
       "      <td>71.6</td>\n",
       "      <td>85.6</td>\n",
       "      <td>11</td>\n",
       "    </tr>\n",
       "    <tr>\n",
       "      <th>6</th>\n",
       "      <td>SGD</td>\n",
       "      <td>0.0005</td>\n",
       "      <td>70.0</td>\n",
       "      <td>70.0</td>\n",
       "      <td>85.8</td>\n",
       "      <td>11</td>\n",
       "    </tr>\n",
       "  </tbody>\n",
       "</table>\n",
       "</div>"
      ],
      "text/plain": [
       "   Optimaizer  Learning Rate   ACC    F1   ROC  Score\n",
       "2        Adam         0.0005  89.7  89.7  95.8      1\n",
       "0        Adam         0.0100  89.2  89.2  95.6      2\n",
       "1        Adam         0.0010  88.1  88.1  95.9      3\n",
       "3        Adam         0.0001  88.3  88.3  95.4      3\n",
       "8     RMSprop         0.0100  88.3  88.3  94.4      4\n",
       "9     RMSprop         0.0010  82.8  82.8  94.2      6\n",
       "10    RMSprop         0.0005  86.3  86.3  94.2      6\n",
       "11    RMSprop         0.0001  80.1  80.1  93.7      8\n",
       "5         SGD         0.0010  79.1  79.1  88.0      9\n",
       "7         SGD         0.0001  74.2  74.2  85.2     10\n",
       "4         SGD         0.0100  71.6  71.6  85.6     11\n",
       "6         SGD         0.0005  70.0  70.0  85.8     11"
      ]
     },
     "execution_count": 5,
     "metadata": {},
     "output_type": "execute_result"
    }
   ],
   "source": [
    "scores = pd.DataFrame(df_data).sort_values(['Score'])\n",
    "scores"
   ]
  },
  {
   "cell_type": "code",
   "execution_count": 6,
   "id": "23a9f24a",
   "metadata": {},
   "outputs": [],
   "source": [
    "scores.to_csv('./OPT_LR_GRID.csv')"
   ]
  },
  {
   "cell_type": "code",
   "execution_count": 7,
   "id": "4768e7c5",
   "metadata": {},
   "outputs": [
    {
     "data": {
      "image/png": "[encoded data removed]",
      "text/plain": [
       "<Figure size 640x480 with 1 Axes>"
      ]
     },
     "metadata": {},
     "output_type": "display_data"
    }
   ],
   "source": [
    "top = grid_iterations[scores.index[0]]\n",
    "y = []\n",
    "x = range(NUM_OF_FOLDS)\n",
    "for i in x:\n",
    "    col = f\"split{i}_test_accuracy\"\n",
    "    y.append(top[col].values[0])\n",
    "plt.plot(x,y, 'bp')\n",
    "plt.xlabel('Fold Number')\n",
    "plt.ylabel('Mean ACC')\n",
    "plt.title('Mean Acc Over K-Folds')\n",
    "plt.show()"
   ]
  },
  {
   "cell_type": "code",
   "execution_count": null,
   "id": "a66ca813",
   "metadata": {},
   "outputs": [],
   "source": []
  }
 ],
 "metadata": {
  "kernelspec": {
   "display_name": "Python 3 (ipykernel)",
   "language": "python",
   "name": "python3"
  },
  "language_info": {
   "codemirror_mode": {
    "name": "ipython",
    "version": 3
   },
   "file_extension": ".py",
   "mimetype": "text/x-python",
   "name": "python",
   "nbconvert_exporter": "python",
   "pygments_lexer": "ipython3",
   "version": "3.9.13"
  }
 },
 "nbformat": 4,
 "nbformat_minor": 5
}
